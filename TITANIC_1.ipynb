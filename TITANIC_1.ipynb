{
  "nbformat": 4,
  "nbformat_minor": 0,
  "metadata": {
    "colab": {
      "provenance": [],
      "collapsed_sections": [
        "cwjVj0fETY_b"
      ]
    },
    "kernelspec": {
      "name": "python3",
      "display_name": "Python 3"
    },
    "language_info": {
      "name": "python"
    }
  },
  "cells": [
    {
      "cell_type": "markdown",
      "source": [
        "#Pip install & Import"
      ],
      "metadata": {
        "id": "cwjVj0fETY_b"
      }
    },
    {
      "cell_type": "code",
      "source": [
        "pip install pyforest"
      ],
      "metadata": {
        "id": "4aNODmdUTfye"
      },
      "execution_count": null,
      "outputs": []
    },
    {
      "cell_type": "code",
      "source": [
        "import pyforest"
      ],
      "metadata": {
        "id": "sHnjHxv_TjLI"
      },
      "execution_count": 2,
      "outputs": []
    },
    {
      "cell_type": "markdown",
      "source": [
        "#Reading the train data and test"
      ],
      "metadata": {
        "id": "i7LekExHTonL"
      }
    },
    {
      "cell_type": "code",
      "source": [
        "data_train=pd.read_csv('train_titanic.csv')\n",
        "data_test=pd.read_csv('test_titanic.csv')"
      ],
      "metadata": {
        "id": "JHSLicbvTtfl"
      },
      "execution_count": null,
      "outputs": []
    },
    {
      "cell_type": "markdown",
      "source": [
        "#Checking data"
      ],
      "metadata": {
        "id": "JuJwC8BAT4Z7"
      }
    }
  ]
}